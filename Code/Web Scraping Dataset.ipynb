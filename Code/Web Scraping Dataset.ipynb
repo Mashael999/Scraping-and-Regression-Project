{
 "cells": [
  {
   "cell_type": "markdown",
   "id": "92ef8a88",
   "metadata": {},
   "source": [
    "# Extract the Dataset"
   ]
  },
  {
   "cell_type": "markdown",
   "id": "d052852b",
   "metadata": {},
   "source": [
    "### Import the Main Modules to be Used"
   ]
  },
  {
   "cell_type": "code",
   "execution_count": 1,
   "id": "f93cbd4d",
   "metadata": {},
   "outputs": [],
   "source": [
    "# Call up the libraries that i may use \n",
    "\n",
    "import requests\n",
    "import re\n",
    "import dateutil.parser\n",
    "import time, os\n",
    "import pandas as pd\n",
    "from bs4 import BeautifulSoup\n",
    "from IPython.core.display import display, HTML\n",
    "from selenium import webdriver\n",
    "from selenium.webdriver.common.keys import Keys"
   ]
  },
  {
   "cell_type": "markdown",
   "id": "ea99ccd1",
   "metadata": {},
   "source": [
    "### Start Web Scraping the Dataset "
   ]
  },
  {
   "cell_type": "code",
   "execution_count": 2,
   "id": "c1d4dfaf",
   "metadata": {},
   "outputs": [],
   "source": [
    "chromedriver = \"C:/Users/Microsoft-pc/Downloads/chromedriver_win32/chromedriver.exe\" # path to the chromedriver executable\n",
    "os.environ[\"webdriver.chrome.driver\"] = chromedriver\n",
    "driver = webdriver.Chrome(chromedriver)\n",
    "\n"
   ]
  },
  {
   "cell_type": "code",
   "execution_count": 3,
   "id": "ce87cd37",
   "metadata": {},
   "outputs": [],
   "source": [
    "# These ara the headings i will assign to the columns\n",
    "\n",
    "titles=[\"Day\",\"Max_Temperature\",\"Avg_Temperature\",\"Min_Temperature\",\"Max_Dew_Point\",\"Avg_Dew_Point\",\"Min_Dew_Point\",\"Max_Humidity\",\"Avg_Humidity\",\"Min_Humidity\",\"Max_Wind_Speed\",\"Avg_Wind_Speed\",\"min_Wind_Speed\",\"Max_Pressure\",\"Avg_Pressure\",\"Min_Pressure\",\"Precipitation\",\"month\",\"year\"]"
   ]
  },
  {
   "cell_type": "code",
   "execution_count": 4,
   "id": "599bd004",
   "metadata": {},
   "outputs": [],
   "source": [
    "# This is the process that will scraping the dataset from weather undergraound website \n",
    "\n",
    "\n",
    "years=[2018,2019,2020]\n",
    "months=range(1,13)\n",
    "bodys=[]\n",
    "for year in years:\n",
    "    for month in months:\n",
    "        for i in range(2,30):\n",
    "            driver.get(f\"https://www.wunderground.com/history/monthly/sa/riyadh/OERK/date/{year}-{month}\")\n",
    "            time.sleep(3)\n",
    "            tbody=driver.find_elements_by_xpath(f'//table[@aria-labelledby=\"Days data\"]/tr[{i}]/td')\n",
    "            x=[]\n",
    "            for data in tbody:\n",
    "                x.append(data.text)\n",
    "            x.append(month)\n",
    "            x.append(year)\n",
    "            bodys.append(x)\n",
    "                \n"
   ]
  },
  {
   "cell_type": "code",
   "execution_count": 6,
   "id": "03f9a529",
   "metadata": {},
   "outputs": [
    {
     "data": {
      "text/plain": [
       "1008"
      ]
     },
     "execution_count": 6,
     "metadata": {},
     "output_type": "execute_result"
    }
   ],
   "source": [
    "len(bodys)"
   ]
  },
  {
   "cell_type": "code",
   "execution_count": 7,
   "id": "c8b32a2e",
   "metadata": {},
   "outputs": [],
   "source": [
    "# Conver The Dataset Into Dataframe\n",
    "\n",
    "df=pd.DataFrame(bodys,columns=titles)\n",
    "\n"
   ]
  },
  {
   "cell_type": "markdown",
   "id": "5ab4ab77",
   "metadata": {},
   "source": [
    "### Save the Dataframe into CSV File "
   ]
  },
  {
   "cell_type": "code",
   "execution_count": 9,
   "id": "a351b023",
   "metadata": {},
   "outputs": [],
   "source": [
    "df.to_csv('Data_scraped.csv')"
   ]
  },
  {
   "cell_type": "code",
   "execution_count": null,
   "id": "76c19791",
   "metadata": {},
   "outputs": [],
   "source": []
  }
 ],
 "metadata": {
  "kernelspec": {
   "display_name": "Python 3",
   "language": "python",
   "name": "python3"
  },
  "language_info": {
   "codemirror_mode": {
    "name": "ipython",
    "version": 3
   },
   "file_extension": ".py",
   "mimetype": "text/x-python",
   "name": "python",
   "nbconvert_exporter": "python",
   "pygments_lexer": "ipython3",
   "version": "3.8.8"
  }
 },
 "nbformat": 4,
 "nbformat_minor": 5
}
